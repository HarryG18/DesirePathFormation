{
 "cells": [
  {
   "cell_type": "code",
   "execution_count": 1,
   "metadata": {},
   "outputs": [],
   "source": [
    "#Authors: Eli Gumble, Peter Brommer, Harry Brown\n",
    "#Initialisation\n",
    "import matplotlib.pyplot as plt\n",
    "import matplotlib.mlab as mmlab\n",
    "import numpy as np\n",
    "from scipy.integrate import simps\n",
    "from scipy import signal as sg\n",
    "from scipy.interpolate import RectBivariateSpline as ReBiSpline \n",
    "from numpy import ma\n",
    "from matplotlib import colors, ticker, cm\n",
    "from random import choice\n",
    "import timeit\n",
    "\n",
    "%matplotlib inline\n",
    "from PIL import Image"
   ]
  },
  {
   "cell_type": "code",
   "execution_count": 2,
   "metadata": {},
   "outputs": [],
   "source": [
    "# Read grids from image\n",
    "im = Image.open(\"cc_fin.bmp\")\n",
    "pic = np.array(im)\n"
   ]
  },
  {
   "cell_type": "code",
   "execution_count": 3,
   "metadata": {},
   "outputs": [],
   "source": [
    "scale = 0.25 #m per pixel\n",
    "Nx = pic[:,0,0].size #N appears to be resolution\n",
    "Ny = pic[0,:,0].size\n",
    "xmin=-scale*0.5*(Nx-1)\n",
    "xmax=scale*0.5*(Nx-1)\n",
    "ymin=-scale*0.5*(Ny-1)\n",
    "ymax=scale*0.5*(Ny-1)\n",
    "x = np.linspace(xmin, xmax, Nx) # This is defining the axes and full space\n",
    "y = np.linspace(ymin, ymax, Ny)\n",
    "Y, X= np.meshgrid(y, x)\n",
    "tr = np.zeros((Nx,Ny))\n",
    "destp=np.zeros((Nx,Ny))\n",
    "wght=np.zeros((Nx,Ny))\n",
    "intens=np.zeros((Nx,Ny))\n",
    "q_alpha=np.zeros((Nx,Ny))\n",
    "expdist=np.zeros((2*Nx-1,2*Ny-1))\n",
    "dest=np.zeros((2))\n",
    "start=np.zeros((2))\n",
    "grad=np.zeros((2,Nx,Ny))\n",
    "vel=np.asarray([0.,0.])\n",
    "pos=np.asarray([0.,0.])\n",
    "#desdirx=ReBiSpline(x,y,grad[0,:,:],s=2)\n",
    "#desdiry=ReBiSpline(x,y,grad[1,:,:],s=2)\n",
    "intens[:]=0.\n",
    "\n",
    "#print(route)\n",
    "#parameters\n",
    "t_track=50.\n",
    "dt=0.1\n",
    "dvel=1.\n",
    "tau=5.\n",
    "isigma=1./4.\n",
    "conv_thresh=10.e-4\n",
    "precision=1.**2 #distance to target.\n",
    "eps=0.025 #random motion contribution, same for all"
   ]
  },
  {
   "cell_type": "code",
   "execution_count": 4,
   "metadata": {},
   "outputs": [
    {
     "name": "stdout",
     "output_type": "stream",
     "text": [
      "[[450.  67.]\n",
      " [449. 347.]\n",
      " [449.  69.]\n",
      " [449. 345.]\n",
      " [449. 344.]\n",
      " [449. 343.]\n",
      " [449. 367.]\n",
      " [449. 350.]\n",
      " [450. 271.]\n",
      " [450. 349.]\n",
      " [449. 264.]\n",
      " [449. 265.]\n",
      " [450. 350.]\n",
      " [450. 348.]\n",
      " [449. 266.]\n",
      " [450. 351.]\n",
      " [450. 345.]\n",
      " [450. 343.]\n",
      " [449. 368.]\n",
      " [449. 267.]\n",
      " [450. 255.]\n",
      " [450. 254.]\n",
      " [449. 369.]\n",
      " [448. 351.]\n",
      " [415. 246.]\n",
      " [450. 367.]\n",
      " [445. 370.]\n",
      " [450. 257.]\n",
      " [450. 264.]\n",
      " [450. 252.]\n",
      " [450. 265.]\n",
      " [450. 266.]\n",
      " [450. 369.]\n",
      " [450. 268.]\n",
      " [411. 370.]\n",
      " [448. 246.]\n",
      " [450. 247.]\n",
      " [  0.   0.]\n",
      " [ 94. 328.]\n",
      " [312. 337.]\n",
      " [  0.   0.]\n",
      " [410. 338.]\n",
      " [ 95. 315.]\n",
      " [  0.   0.]\n",
      " [316. 337.]\n",
      " [  0.   0.]\n",
      " [315. 337.]\n",
      " [  0.   0.]\n",
      " [274. 338.]\n",
      " [450. 370.]\n",
      " [ 94. 334.]\n",
      " [ 95. 190.]\n",
      " [  0.   0.]\n",
      " [  0.   0.]\n",
      " [  0.   0.]\n",
      " [  0.   0.]\n",
      " [  0.   0.]\n",
      " [  0.   0.]\n",
      " [ 95. 314.]\n",
      " [  0.   0.]\n",
      " [ 95. 309.]\n",
      " [  0.   0.]\n",
      " [  0.   0.]\n",
      " [  0.   0.]\n",
      " [ 95. 308.]\n",
      " [  0.   0.]\n",
      " [  0.   0.]\n",
      " [  0.   0.]\n",
      " [  0.   0.]\n",
      " [  0.   0.]\n",
      " [ 95. 336.]\n",
      " [  0.   0.]\n",
      " [  0.   0.]\n",
      " [  0.   0.]\n",
      " [  0.   0.]\n",
      " [  0.   0.]\n",
      " [  0.   0.]\n",
      " [  0.   0.]\n",
      " [  0.   0.]\n",
      " [  0.   0.]\n",
      " [  0.   0.]\n",
      " [ 95. 307.]\n",
      " [  0.   0.]\n",
      " [  0.   0.]\n",
      " [  0.   0.]\n",
      " [  0.   0.]\n",
      " [  0.   0.]\n",
      " [  0.   0.]\n",
      " [  0.   0.]\n",
      " [  0.   0.]\n",
      " [  0.   0.]\n",
      " [  0.   0.]\n",
      " [  0.   0.]\n",
      " [  0.   0.]\n",
      " [  0.   0.]\n",
      " [  0.   0.]\n",
      " [  0.   0.]\n",
      " [  0.   0.]\n",
      " [  0.   0.]\n",
      " [  0.   0.]\n",
      " [  0.   0.]\n",
      " [  0.   0.]\n",
      " [  0.   0.]\n",
      " [  0.   0.]\n",
      " [  0.   0.]\n",
      " [  0.   0.]\n",
      " [  0.   0.]\n",
      " [  0.   0.]\n",
      " [  0.   0.]\n",
      " [  0.   0.]\n",
      " [  0.   0.]\n",
      " [  0.   0.]\n",
      " [  0.   0.]\n",
      " [  0.   0.]\n",
      " [  0.   0.]\n",
      " [451. 368.]\n",
      " [451. 369.]\n",
      " [ 60. 144.]\n",
      " [  0.   0.]\n",
      " [448. 371.]\n",
      " [451. 249.]\n",
      " [451. 263.]\n",
      " [451. 370.]\n",
      " [451. 258.]\n",
      " [ 60. 184.]\n",
      " [451. 367.]\n",
      " [451. 265.]\n",
      " [451. 253.]\n",
      " [ 60. 176.]\n",
      " [451. 266.]\n",
      " [451. 267.]\n",
      " [451. 351.]\n",
      " [452. 368.]\n",
      " [ 60. 181.]\n",
      " [452. 249.]\n",
      " [454. 240.]\n",
      " [455. 240.]\n",
      " [452. 259.]\n",
      " [463. 251.]\n",
      " [454.  68.]\n",
      " [463. 244.]\n",
      " [455.  66.]\n",
      " [463. 252.]\n",
      " [452. 255.]\n",
      " [463. 383.]\n",
      " [463. 382.]\n",
      " [455. 243.]\n",
      " [463. 381.]\n",
      " [455. 349.]\n",
      " [504. 446.]\n",
      " [455. 373.]\n",
      " [463. 380.]\n",
      " [463. 379.]\n",
      " [454. 267.]\n",
      " [463. 378.]\n",
      " [455. 371.]\n",
      " [463. 368.]\n",
      " [455.  65.]\n",
      " [463. 254.]\n",
      " [461. 255.]\n",
      " [452. 374.]\n",
      " [462. 255.]\n",
      " [454. 372.]\n",
      " [463. 255.]\n",
      " [451. 242.]\n",
      " [  0.   0.]\n",
      " [  0.   0.]\n",
      " [  0.   0.]\n",
      " [  0.   0.]\n",
      " [  0.   0.]\n",
      " [451. 243.]]\n"
     ]
    }
   ],
   "source": [
    "##Set up map\n",
    "\n",
    "\n",
    "#Create blank arrays\n",
    "z = np.zeros((Nx,Ny))\n",
    "g_max=np.zeros((Nx,Ny))\n",
    "g_nat=np.zeros((Nx,Ny))\n",
    "\n",
    "g_nat=np.maximum(np.ones_like(g_nat),np.float64(pic[:,:,0]))\n",
    "g_max=np.maximum(np.ones_like(g_max),np.float64(pic[:,:,1]))\n",
    "z=g_nat\n",
    "\n",
    "track_labels=pic[:,:,2];\n",
    "\n",
    "numpoints=np.max(track_labels)\n",
    "\n",
    "point=np.zeros((numpoints,2))\n",
    "\n",
    "for i in range(0,Nx):\n",
    "    for j in range(0,Ny):\n",
    "        if (track_labels[i,j]>0):\n",
    "            point[track_labels[i,j]-1]=np.array([i,j])\n",
    "\n",
    "#define initial and max ground potentials\n",
    "#z[:,:]=1.\n",
    "#g_max[:,:]=80.\n",
    "#Set ground potentials\n",
    "#z[35:200,15:40]=100;z[50:120,70:85]=100;z[80:110,85:120]=100;z[0:20,70:120]=100;z[20:50,40:95]=100;\n",
    "#g_max[35:200,15:40]=100;g_max[50:120,70:85]=100;g_max[80:110,85:120]=100;g_max[0:20,70:120]=100;g_max[20:50,40:95]=100;\n",
    "#z[120:201,70:85]=80;\n",
    "#z[50:200,40:70]=30;\n",
    "#z[100:200,85:120]=30;\n",
    "#g_nat=z\n",
    "\n",
    "print (point)\n",
    "\n",
    "# Trails (start and end point)\n",
    "route=np.array([[[-2.5,14.],[24.,-9.75]],\n",
    "                [[-2.5,14.],[24.,2.5]],\n",
    "                [[-2.5,14.],[-24.,9.75]],\n",
    "                [[24.,-9.75],[-2.75,14.]],\n",
    "                [[24.,-9.75],[-24.,9.75]],\n",
    "                [[24.,2.5],[-2.75,14.]],\n",
    "                [[24.,2.5],[-24.,9.75]],\n",
    "                [[-24.,10.],[-2.75,14.]],\n",
    "                [[-24.,10.],[24.,-9.75]],\n",
    "                [[-24.,10.],[24.,2.5]]])"
   ]
  },
  {
   "cell_type": "code",
   "execution_count": 5,
   "metadata": {},
   "outputs": [],
   "source": [
    "#Setup weight matrix, here trapezoid rule.\n",
    "wght[:,:]=1\n",
    "wght[1:-1,:]=2\n",
    "wght[:,1:-1]=2\n",
    "wght[1:-1,1:-1]=4\n",
    "wght*=0.25*((x[-1]-x[0])/(Nx-1))*((y[-1]-y[0])/(Ny-1))\n",
    "#0.25*((x[-1]-x[0])/(N-1))*((y[-1]-y[0])/(N-1))\n",
    "#np.exp(-np.sqrt((x[:,None]-x[N/2])**2+(y[None,:]-y[N/2])**2))*z[:,:]\n"
   ]
  },
  {
   "cell_type": "code",
   "execution_count": 6,
   "metadata": {},
   "outputs": [
    {
     "data": {
      "text/plain": [
       "(221, 221)"
      ]
     },
     "execution_count": 6,
     "metadata": {},
     "output_type": "execute_result"
    }
   ],
   "source": [
    "# Setup distance matrix\n",
    "for xi in range(1,Nx+1):\n",
    "    for yi in range(1,Ny+1):\n",
    "        expdist[xi-1,yi-1]=np.exp(-isigma*np.sqrt((x[Nx-xi]-xmin)**2+(y[Ny-yi]-ymin)**2))\n",
    "        expdist[-xi,-yi]  = expdist[xi-1,yi-1]\n",
    "        expdist[-xi,yi-1] = expdist[xi-1,yi-1]\n",
    "        expdist[xi-1,-yi] = expdist[xi-1,yi-1]\n",
    "        \n",
    "# find index range > conv_thresh\n",
    "subexpdist=expdist[(expdist>conv_thresh).any(1)]\n",
    "subexpdist=subexpdist[:, np.any(subexpdist>conv_thresh, axis=0)]\n",
    "#subexpdist=subexpdist[:,np.any(subexpdist>convthresh, axis=0)]\n",
    "#expdist[subexpdist]=0.\n",
    "subexpdist.shape"
   ]
  },
  {
   "cell_type": "code",
   "execution_count": 7,
   "metadata": {},
   "outputs": [],
   "source": [
    "def calc_tr_new():\n",
    "    tr[:,:]=sg.convolve2d(z[:,:]*wght[:,:],subexpdist[:,:],mode=\"same\")"
   ]
  },
  {
   "cell_type": "code",
   "execution_count": 8,
   "metadata": {},
   "outputs": [],
   "source": [
    "#Integrate z, trapezoid rule eq 20\n",
    "def calc_tr():\n",
    "    global xi,yi,tr,expdist,z,wght,Nx,Ny\n",
    "    for xi in range(0,Nx): \n",
    "        for yi in range(0,Ny):\n",
    "            tr[xi,yi]=np.sum(expdist[Nx-1-xi:2*Nx-1-xi,Ny-1-yi:2*Ny-1-yi]*z[:,:]*wght[:,:])"
   ]
  },
  {
   "cell_type": "code",
   "execution_count": 9,
   "metadata": {},
   "outputs": [],
   "source": [
    "#timeit.timeit(calc_tr,number=1)"
   ]
  },
  {
   "cell_type": "code",
   "execution_count": 10,
   "metadata": {},
   "outputs": [
    {
     "data": {
      "text/plain": [
       "31.792743500000004"
      ]
     },
     "execution_count": 10,
     "metadata": {},
     "output_type": "execute_result"
    }
   ],
   "source": [
    "timeit.timeit(calc_tr_new,number=1)"
   ]
  },
  {
   "cell_type": "code",
   "execution_count": 11,
   "metadata": {
    "scrolled": false
   },
   "outputs": [
    {
     "data": {
      "image/png": "[encoded data removed]",
      "text/plain": [
       "<Figure size 432x288 with 2 Axes>"
      ]
     },
     "metadata": {
      "needs_background": "light"
     },
     "output_type": "display_data"
    }
   ],
   "source": [
    "# The following is not strictly essential, but it will eliminate\n",
    "# a warning.  Comment it out to see the warning.\n",
    "#z = ma.masked_where(z <= 0, z)\n",
    "#calc_tr()\n",
    "\n",
    "# Automatic selection of levels works; setting the\n",
    "# log locator tells contourf to use a log scale:\n",
    "cs = plt.contourf(X, Y, tr, levels=np.linspace(tr.min(),tr.max(),1000),cmap=cm.PuBu_r)\n",
    "\n",
    "# Alternatively, you can manually set the levels\n",
    "# and the norm:\n",
    "#lev_exp = np.arange(np.floor(np.log10(z.min())-1),\n",
    "#                    np.ceil(np.log10(z.max())+1))\n",
    "#levs = np.power(10, lev_exp)\n",
    "#cs = plt.contourf(X, Y, z, levs, norm=colors.LogNorm())\n",
    "\n",
    "# The 'extend' kwarg does not work yet with a log scale.\n",
    "\n",
    "cbar = plt.colorbar()\n",
    "#plt.scatter(track[0:1999,0],track[0:1999,1])\n",
    "plt.show()"
   ]
  },
  {
   "cell_type": "code",
   "execution_count": 12,
   "metadata": {},
   "outputs": [],
   "source": [
    "#set up walker\n",
    "def set_up_walker(route_id):\n",
    "    global vel,pos,track,intens,dest,start,route\n",
    "    #start\n",
    "    start=np.array(route[route_id,0,:])\n",
    "    #dest=(random.choice(ends))\n",
    "    dest=np.array(route[route_id,1,:])\n",
    "    vel=np.array([0.,0.])\n",
    "    pos=np.array(start)\n",
    "    #print (pos)\n",
    "    track=np.zeros((2000,2))\n",
    "#    track[0,:]=pos[:]\n",
    "#"
   ]
  },
  {
   "cell_type": "code",
   "execution_count": 13,
   "metadata": {},
   "outputs": [],
   "source": [
    "\n",
    "#Calculate gradients eq 19\n",
    "#Trail gradient\n",
    "def setup_potentials():\n",
    "    global grad,desdirx,desdiry,dest\n",
    "    grad=0.002*np.array(np.gradient(tr))\n",
    "\n",
    "    #print (dest)\n",
    "#Destination \n",
    "\n",
    "#def choose_start()\n",
    " #   start=(random.choice(starts))\n",
    "#def choose_dest()\n",
    " #   dest=(random.choice(ends))\n",
    "#Destination potential\n",
    "    destp=-np.sqrt((dest[0]-x[:,None])**2+(dest[1]-y[None,:])**2)\n",
    "#Combine gradients\n",
    "    grad+=np.array(np.gradient(destp)[:])\n",
    "#Normalise\n",
    "#grad[:,:,:]/=(np.sqrt(grad[0,:,:]**2+grad[1,:,:]**2))\n",
    "    desdirx=ReBiSpline(x,y,grad[0,:,:],s=2)\n",
    "    desdiry=ReBiSpline(x,y,grad[1,:,:],s=2)"
   ]
  },
  {
   "cell_type": "code",
   "execution_count": 14,
   "metadata": {
    "scrolled": true
   },
   "outputs": [
    {
     "ename": "NameError",
     "evalue": "name 'track' is not defined",
     "output_type": "error",
     "traceback": [
      "\u001b[1;31m---------------------------------------------------------------------------\u001b[0m",
      "\u001b[1;31mNameError\u001b[0m                                 Traceback (most recent call last)",
      "\u001b[1;32m<ipython-input-14-2f3be0c3330b>\u001b[0m in \u001b[0;36m<module>\u001b[1;34m\u001b[0m\n\u001b[0;32m      5\u001b[0m \u001b[1;33m\u001b[0m\u001b[0m\n\u001b[0;32m      6\u001b[0m \u001b[0mcbar\u001b[0m \u001b[1;33m=\u001b[0m \u001b[0mplt\u001b[0m\u001b[1;33m.\u001b[0m\u001b[0mcolorbar\u001b[0m\u001b[1;33m(\u001b[0m\u001b[1;33m)\u001b[0m\u001b[1;33m\u001b[0m\u001b[1;33m\u001b[0m\u001b[0m\n\u001b[1;32m----> 7\u001b[1;33m \u001b[0mplt\u001b[0m\u001b[1;33m.\u001b[0m\u001b[0mscatter\u001b[0m\u001b[1;33m(\u001b[0m\u001b[0mtrack\u001b[0m\u001b[1;33m[\u001b[0m\u001b[1;36m0\u001b[0m\u001b[1;33m:\u001b[0m\u001b[1;36m1999\u001b[0m\u001b[1;33m,\u001b[0m\u001b[1;36m0\u001b[0m\u001b[1;33m]\u001b[0m\u001b[1;33m,\u001b[0m\u001b[0mtrack\u001b[0m\u001b[1;33m[\u001b[0m\u001b[1;36m0\u001b[0m\u001b[1;33m:\u001b[0m\u001b[1;36m1999\u001b[0m\u001b[1;33m,\u001b[0m\u001b[1;36m1\u001b[0m\u001b[1;33m]\u001b[0m\u001b[1;33m)\u001b[0m\u001b[1;33m\u001b[0m\u001b[1;33m\u001b[0m\u001b[0m\n\u001b[0m\u001b[0;32m      8\u001b[0m \u001b[0mplt\u001b[0m\u001b[1;33m.\u001b[0m\u001b[0mshow\u001b[0m\u001b[1;33m(\u001b[0m\u001b[1;33m)\u001b[0m\u001b[1;33m\u001b[0m\u001b[1;33m\u001b[0m\u001b[0m\n",
      "\u001b[1;31mNameError\u001b[0m: name 'track' is not defined"
     ]
    },
    {
     "data": {
      "image/png": "[encoded data removed]",
      "text/plain": [
       "<Figure size 432x288 with 2 Axes>"
      ]
     },
     "metadata": {
      "needs_background": "light"
     },
     "output_type": "display_data"
    }
   ],
   "source": [
    "#Plot the direction\n",
    "scgrad=np.arctan2(grad[1],grad[0])\n",
    "levels = np.linspace(-np.pi, np.pi, 360)\n",
    "cs = plt.contourf(X, Y,scgrad, levels=levels,cmap=cm.hsv)\n",
    "\n",
    "cbar = plt.colorbar()\n",
    "plt.scatter(track[0:1999,0],track[0:1999,1])\n",
    "plt.show()\n"
   ]
  },
  {
   "cell_type": "code",
   "execution_count": null,
   "metadata": {},
   "outputs": [],
   "source": [
    "def calc_path():\n",
    "    global pos,vel,intens,track,dest,dvel,tau;\n",
    "#    for i in range(0,399):\n",
    "    i=0\n",
    "    hist=10\n",
    "    samp=10\n",
    "    avpos=np.zeros((2,hist))\n",
    "    while (np.dot(pos-dest,pos-dest)>precision and i<2000):\n",
    "    #Integrator eq 5\n",
    "        pos+=dt*vel\n",
    "        if (i%samp==0): avpos[:,(i%hist)//samp]=pos[:]\n",
    "        gradmagnitude=max(0.0001,np.sqrt(desdirx(pos[0],pos[1])**2+desdiry(pos[0],pos[1])**2))\n",
    "        xi=np.array(np.random.normal(0,1,2))\n",
    "        vel[0]+=-1/tau*vel[0]+(dvel/tau)*desdirx(pos[0],pos[1])/gradmagnitude+np.sqrt(2.*eps/tau)*xi[0]\n",
    "        vel[1]+=-1/tau*vel[1]+(dvel/tau)*desdiry(pos[0],pos[1])/gradmagnitude+np.sqrt(2.*eps/tau)*xi[1]\n",
    "        #print (i,pos,vel,(dvel/tau)*desdirx(pos[0],pos[1])/gradmagnitude,(dvel/tau)*desdiry(pos[0],pos[1])/gradmagnitude)\n",
    "        track[i,:]=pos[:]\n",
    "        intens[int((pos[0]-xmin)*(Nx-1)/(xmax-xmin)),int((pos[1]-ymin)*(Ny-1)/(ymax-ymin))]+=1.\n",
    "        i+=1\n",
    "        if (i%(hist*samp)==0):\n",
    "            meanpos=np.mean(avpos,axis=1)\n",
    "            if (np.dot(pos-meanpos,pos-meanpos)<precision): \n",
    "                print (\"Stalled progress \",pos,meanpos,vel)\n",
    "                break\n",
    "    if (i==2000): print (\"Missed goal \",dest,pos)           \n",
    "    return i    \n",
    "#stopping condition    "
   ]
  },
  {
   "cell_type": "code",
   "execution_count": null,
   "metadata": {},
   "outputs": [],
   "source": [
    "# Calculate Q_alpha (strength of markings) eq 15\n",
    "def update_ground():\n",
    "    global q_alpha,intens,z,g_max,t_track,g_nat\n",
    "    q_alpha=intens*(1.-z/g_max)\n",
    "# Time evolution of ground potential\n",
    "#    zdiff=(1./t_track)*(g_nat-z)+q_alpha\n",
    "    z+=(1./t_track)*(g_nat-z)+q_alpha\n",
    "#    cs = plt.contourf(X, Y, zdiff, cmap=cm.PuBu_r)\n",
    "#    cbar = plt.colorbar()\n",
    "#    plt.show\n",
    "#    z[140:160,45:75]"
   ]
  },
  {
   "cell_type": "code",
   "execution_count": 15,
   "metadata": {},
   "outputs": [],
   "source": [
    "def plot_path():\n",
    "    cs = plt.contourf(X, Y, z, levels=np.linspace(z.min(),z.max(),1000),cmap=cm.PuBu_r)\n",
    "    cbar = plt.colorbar()\n",
    "    plt.show\n",
    "    plt.scatter(track[0:1999,0],track[0:1999,1])"
   ]
  },
  {
   "cell_type": "code",
   "execution_count": 16,
   "metadata": {},
   "outputs": [
    {
     "data": {
      "text/plain": [
       "-55.75"
      ]
     },
     "execution_count": 16,
     "metadata": {},
     "output_type": "execute_result"
    }
   ],
   "source": [
    "ymin"
   ]
  },
  {
   "cell_type": "code",
   "execution_count": 17,
   "metadata": {},
   "outputs": [
    {
     "ename": "NameError",
     "evalue": "name 'calc_path' is not defined",
     "output_type": "error",
     "traceback": [
      "\u001b[1;31m---------------------------------------------------------------------------\u001b[0m",
      "\u001b[1;31mNameError\u001b[0m                                 Traceback (most recent call last)",
      "\u001b[1;32m<ipython-input-17-5dc165a6fd1a>\u001b[0m in \u001b[0;36m<module>\u001b[1;34m\u001b[0m\n\u001b[0;32m      5\u001b[0m         \u001b[0mset_up_walker\u001b[0m\u001b[1;33m(\u001b[0m\u001b[0mnp\u001b[0m\u001b[1;33m.\u001b[0m\u001b[0mrandom\u001b[0m\u001b[1;33m.\u001b[0m\u001b[0mrandint\u001b[0m\u001b[1;33m(\u001b[0m\u001b[1;36m0\u001b[0m\u001b[1;33m,\u001b[0m\u001b[0mlen\u001b[0m\u001b[1;33m(\u001b[0m\u001b[0mroute\u001b[0m\u001b[1;33m)\u001b[0m\u001b[1;33m)\u001b[0m\u001b[1;33m)\u001b[0m\u001b[1;33m\u001b[0m\u001b[1;33m\u001b[0m\u001b[0m\n\u001b[0;32m      6\u001b[0m         \u001b[0msetup_potentials\u001b[0m\u001b[1;33m(\u001b[0m\u001b[1;33m)\u001b[0m\u001b[1;33m\u001b[0m\u001b[1;33m\u001b[0m\u001b[0m\n\u001b[1;32m----> 7\u001b[1;33m         \u001b[0mprint\u001b[0m \u001b[1;33m(\u001b[0m\u001b[0mi\u001b[0m\u001b[1;33m,\u001b[0m \u001b[0mstart\u001b[0m\u001b[1;33m,\u001b[0m\u001b[1;34m\" -> \"\u001b[0m\u001b[1;33m,\u001b[0m \u001b[0mdest\u001b[0m\u001b[1;33m,\u001b[0m \u001b[0mpos\u001b[0m\u001b[1;33m,\u001b[0m \u001b[0mcalc_path\u001b[0m\u001b[1;33m(\u001b[0m\u001b[1;33m)\u001b[0m\u001b[1;33m)\u001b[0m\u001b[1;33m\u001b[0m\u001b[1;33m\u001b[0m\u001b[0m\n\u001b[0m\u001b[0;32m      8\u001b[0m     \u001b[0mupdate_ground\u001b[0m\u001b[1;33m(\u001b[0m\u001b[1;33m)\u001b[0m\u001b[1;33m\u001b[0m\u001b[1;33m\u001b[0m\u001b[0m\n\u001b[0;32m      9\u001b[0m     \u001b[1;31m#plot_path()\u001b[0m\u001b[1;33m\u001b[0m\u001b[1;33m\u001b[0m\u001b[1;33m\u001b[0m\u001b[0m\n",
      "\u001b[1;31mNameError\u001b[0m: name 'calc_path' is not defined"
     ]
    }
   ],
   "source": [
    "for i in range(0,2):\n",
    "    calc_tr_new()\n",
    "    intens[:]=0.\n",
    "    for j in range(0,10):\n",
    "        set_up_walker(np.random.randint(0,len(route)))\n",
    "        setup_potentials()\n",
    "        print (i, start,\" -> \", dest, pos, calc_path())\n",
    "    update_ground()\n",
    "    #plot_path()"
   ]
  },
  {
   "cell_type": "code",
   "execution_count": null,
   "metadata": {},
   "outputs": [],
   "source": [
    "precision=1."
   ]
  },
  {
   "cell_type": "code",
   "execution_count": 21,
   "metadata": {},
   "outputs": [
    {
     "data": {
      "image/png": "[encoded data removed]",
      "text/plain": [
       "<Figure size 432x288 with 2 Axes>"
      ]
     },
     "metadata": {
      "needs_background": "light"
     },
     "output_type": "display_data"
    }
   ],
   "source": [
    "plot_path()"
   ]
  },
  {
   "cell_type": "code",
   "execution_count": null,
   "metadata": {},
   "outputs": [],
   "source": [
    "for i in range(0,Nx):\n",
    "    for j in range(0,Ny):\n",
    "        if (np.isnan(z[i,j])):\n",
    "            print (i,j,g_max[i,j],pic[i,j,0])\n",
    "        "
   ]
  },
  {
   "cell_type": "code",
   "execution_count": null,
   "metadata": {},
   "outputs": [],
   "source": [
    "g_nat[:,:]-pic[:,:,0]"
   ]
  },
  {
   "cell_type": "code",
   "execution_count": null,
   "metadata": {},
   "outputs": [],
   "source": [
    "z.dtype"
   ]
  },
  {
   "cell_type": "code",
   "execution_count": null,
   "metadata": {},
   "outputs": [],
   "source": []
  },
  {
   "cell_type": "code",
   "execution_count": null,
   "metadata": {},
   "outputs": [],
   "source": []
  }
 ],
 "metadata": {
  "anaconda-cloud": {},
  "kernelspec": {
   "display_name": "Python 3",
   "language": "python",
   "name": "python3"
  },
  "language_info": {
   "codemirror_mode": {
    "name": "ipython",
    "version": 3
   },
   "file_extension": ".py",
   "mimetype": "text/x-python",
   "name": "python",
   "nbconvert_exporter": "python",
   "pygments_lexer": "ipython3",
   "version": "3.7.4"
  }
 },
 "nbformat": 4,
 "nbformat_minor": 1
}
